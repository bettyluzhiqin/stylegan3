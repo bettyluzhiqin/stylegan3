{
  "nbformat": 4,
  "nbformat_minor": 0,
  "metadata": {
    "colab": {
      "name": "stylegan3-finetuning",
      "private_outputs": true,
      "provenance": [],
      "collapsed_sections": [],
      "machine_shape": "hm"
    },
    "kernelspec": {
      "name": "python3",
      "display_name": "Python 3"
    },
    "accelerator": "GPU"
  },
  "cells": [
    {
      "cell_type": "markdown",
      "metadata": {
        "id": "cPI5E5y0pujD"
      },
      "source": [
        "# Custom Training StyleGan2-ADA"
      ]
    },
    {
      "cell_type": "markdown",
      "metadata": {
        "id": "SI_i1MwgpzOD"
      },
      "source": [
        "StyleGAN2-ADA only work with Tensorflow 1. Run the next cell before anything else to make sure we’re using TF1 and not TF2."
      ]
    },
    {
      "cell_type": "code",
      "metadata": {
        "id": "iKYAU7Wub3WW"
      },
      "source": [
        "%tensorflow_version 1.x"
      ],
      "execution_count": null,
      "outputs": []
    },
    {
      "cell_type": "code",
      "metadata": {
        "id": "51ei6d5kxVDm"
      },
      "source": [
        "!nvidia-smi -L"
      ],
      "execution_count": null,
      "outputs": []
    },
    {
      "cell_type": "markdown",
      "metadata": {
        "id": "5YcUMPQp6ipP"
      },
      "source": [
        "## Install Repo to Google Drive\n",
        "\n",
        "Colab is a little funky with training. I’ve found the best way to do this is to install the repo directly into your Google Drive folder.\n",
        "\n",
        "First, mount your Drive to the Colab notebook: "
      ]
    },
    {
      "cell_type": "code",
      "metadata": {
        "id": "pxxYlEKI9Gis"
      },
      "source": [
        "from google.colab import drive\n",
        "drive.mount(\"/content/drive\")"
      ],
      "execution_count": null,
      "outputs": []
    },
    {
      "cell_type": "markdown",
      "metadata": {
        "id": "epV6TDzAjox1"
      },
      "source": [
        "Next, run this cell. If you’re already installed the repo, it will skip the installation process and change into the repo’s directory. If you haven’t installed it, it will install all the files necessary."
      ]
    },
    {
      "cell_type": "code",
      "metadata": {
        "id": "8HX77jscX2zV"
      },
      "source": [
        "import os\n",
        "if os.path.isdir(\"/content/drive/My Drive/colab-sg3\"):\n",
        "    %cd \"/content/drive/My Drive/colab-sg3/stylegan3\"\n",
        "else:\n",
        "    #install script\n",
        "    %cd \"/content/drive/My Drive/\"\n",
        "    !mkdir colab-sg3\n",
        "    %cd colab-sg3\n",
        "    !git clone https://github.com/NVlabs/stylegan3\n",
        "    %cd stylegan3\n",
        "    !mkdir downloads\n",
        "    !mkdir datasets"
      ],
      "execution_count": null,
      "outputs": []
    },
    {
      "cell_type": "code",
      "metadata": {
        "id": "G7oj_kBaemol"
      },
      "source": [
        "%cd \"/content/drive/My Drive/colab-sg3/stylegan3\"\n",
        "!git config --global user.name \"test\"\n",
        "!git config --global user.email \"test@test.com\"\n",
        "!git fetch origin\n",
        "!git checkout origin/main -- train.py"
      ],
      "execution_count": null,
      "outputs": []
    },
    {
      "cell_type": "code",
      "source": [
        "!pip install Ninja opensimplex"
      ],
      "metadata": {
        "id": "O9BmdwP5Hx1O"
      },
      "execution_count": null,
      "outputs": []
    },
    {
      "cell_type": "markdown",
      "metadata": {
        "id": "HeS9tDvt61VG"
      },
      "source": [
        "## Convert dataset to .tfrecords"
      ]
    },
    {
      "cell_type": "markdown",
      "metadata": {
        "id": "_Q58MJbckLUc"
      },
      "source": [
        "**Note: You only need to do this once per dataset. If you have already run this and are returning to conntinue training, skip these cells.**\n",
        "\n",
        "Next we need to convert our image dataset to a format that StyleGAN2-ADA can read from. There are two options here. You can upload your dataset directly to Colab (as a zipped file), or you can upload it to Drive directly and read it from there."
      ]
    },
    {
      "cell_type": "code",
      "metadata": {
        "id": "8JUP51nJdEjz"
      },
      "source": [
        "#if you manually uploaded your dataset to Colab, unzip it\n",
        "zip_path = \"/content/pokemons512.zip\"\n",
        "\n",
        "!unzip {zip_path} -d /content/"
      ],
      "execution_count": null,
      "outputs": []
    },
    {
      "cell_type": "markdown",
      "metadata": {
        "id": "D0QH0nzjlbEE"
      },
      "source": [
        "Now that your image dataset is uploaded, we need to convert it to the `.tfrecords` format.\n",
        "\n",
        "Depending on the resolution of your images and how many you have, this can take a while."
      ]
    },
    {
      "cell_type": "code",
      "source": [
        "!python dataset_tool.py --help"
      ],
      "metadata": {
        "id": "xCaapm9JLcy4"
      },
      "execution_count": null,
      "outputs": []
    },
    {
      "cell_type": "code",
      "metadata": {
        "id": "T-BZHhBe7AvO"
      },
      "source": [
        "\n",
        "\n",
        "#update this to the path to your image folder\n",
        "#dataset_path = \"/content/pokemons512\"\n",
        "#give your dataset a name\n",
        "#dataset_name = \"pokemons\"\n",
        "\n",
        "\n",
        "\n",
        "#testset = datasets.ImageFolder(root=\"/content/s\", transform=transforms.ToTensor())\n",
        "#tfs = transforms.Compose([\n",
        "#            transforms.Resize(img_size),\n",
        "#            transforms.ToTensor(),\n",
        "#            normalize,\n",
        "#        ])\n",
        "\n",
        "#you don't need to edit anything here\n",
        "!python dataset_tool.py --source=/content/pokemons512 --dest=/content/drive/MyDrive/colab-sg3/stylegan3/datasets/pokemons.zip\n",
        "#!python dataset_tool.py create_from_images ./datasets/{dataset_name} {dataset_path}"
      ],
      "execution_count": null,
      "outputs": []
    },
    {
      "cell_type": "markdown",
      "metadata": {
        "id": "8DvTupHzP2s_"
      },
      "source": [
        "## Train a custom model\n",
        "\n",
        "We’re ready to start training! There are numerous arguments to training, what’s listed below are the most popular options. To see all the options, run the following cell."
      ]
    },
    {
      "cell_type": "code",
      "source": [
        "!python train.py --help for help"
      ],
      "metadata": {
        "id": "Z9ca_rWlzjCp"
      },
      "execution_count": null,
      "outputs": []
    },
    {
      "cell_type": "code",
      "metadata": {
        "id": "jOftFoyiDU3s"
      },
      "source": [
        "#this name must EXACTLY match the dataset name you used when creating the .tfrecords file\n",
        "dataset_name = \"pokemons.zip\"\n",
        "#how often should the model generate samples and a .pkl file\n",
        "snapshot_count = 50\n",
        "#should the images be mirrored top to bottom?\n",
        "mirroredY = False\n",
        "#metrics? \n",
        "metric_list = None\n",
        "\n",
        "#resume\n",
        "\n",
        "!python train.py --outdir=~/training --cfg=stylegan3-r --data=/content/drive/MyDrive/colab-sg3/stylegan3/datasets/pokemons.zip \\\n",
        "    --gpus=1 --batch=32 --batch-gpu=4 --gamma=6.6 --mirror=1 --kimg=5000 --snap=5 \\\n",
        "    --resume=https://api.ngc.nvidia.com/v2/models/nvidia/research/stylegan3/versions/1/files/stylegan3-r-afhqv2-512x512.pkl\n",
        "\n",
        "#don't edit this unless you know what you're doing :)\n",
        "#!python train.py --outdir ./results --snap={snapshot_count} --cfg=11gb-gpu --data=./datasets/{dataset_name} --augpipe={augs} --mirror={mirrored} --mirrory={mirroredY} --metrics={metric_list} --augpipe=\"bg\""
      ],
      "execution_count": null,
      "outputs": []
    },
    {
      "cell_type": "markdown",
      "metadata": {
        "id": "V0XcypVrJ8zw"
      },
      "source": [
        "# Generate Images"
      ]
    },
    {
      "cell_type": "markdown",
      "metadata": {
        "id": "xCCPCg2aiKwl"
      },
      "source": [
        "##Random Seeds"
      ]
    },
    {
      "cell_type": "code",
      "metadata": {
        "id": "qMGK4RLEwyKv"
      },
      "source": [
        "pip install opensimplex"
      ],
      "execution_count": null,
      "outputs": []
    },
    {
      "cell_type": "code",
      "metadata": {
        "id": "GQB3pyI3iKFg"
      },
      "source": [
        "snapshot=\"/content/drive/MyDrive/colab-sg2-ada/stylegan2-ada/results/00020-sex-11gb-gpu-bg-resumecustom/network-snapshot-000008.pkl\"\n",
        "\n",
        "!python generate.py generate-images --network={snapshot} --seeds=1-1000 --trunc=1.3"
      ],
      "execution_count": null,
      "outputs": []
    },
    {
      "cell_type": "markdown",
      "metadata": {
        "id": "6JK-TmueiEDV"
      },
      "source": [
        "##Growing"
      ]
    },
    {
      "cell_type": "code",
      "metadata": {
        "id": "MhY4x25tKYOx"
      },
      "source": [
        "import glob\n",
        "model_names = glob.glob(\"results/00001-a-mirror-mirrory-11gb-gpu-bg/*.pkl\") "
      ],
      "execution_count": null,
      "outputs": []
    },
    {
      "cell_type": "code",
      "metadata": {
        "id": "tcOHxvjuKabX"
      },
      "source": [
        "for model in model_names:\n",
        "  !python generate.py generate-images \\\n",
        "  --network /content/drive/MyDrive/colab-sg2-ada/stylegan2-ada/{model}\\\n",
        "   --seeds=69 --trunc 0.8 --outdir ./results/growing_a/{model}"
      ],
      "execution_count": null,
      "outputs": []
    },
    {
      "cell_type": "markdown",
      "metadata": {
        "id": "QJUNkG7ciFty"
      },
      "source": [
        "##Latent Walk"
      ]
    },
    {
      "cell_type": "code",
      "metadata": {
        "id": "FmQnVO9gijEE"
      },
      "source": [
        "snapshot=\"/content/drive/MyDrive/colab-sg2-ada/stylegan2-ada/results/00020-sex-11gb-gpu-bg-resumecustom/network-snapshot-000008.pkl\"\n",
        "seednumbers = \"964,977,911,936,833,744,774,790,467,964\"\n",
        "framenumber = \"1000\"\n",
        "\n",
        "!python generate.py generate-latent-walk --network={snapshot} --seeds={seednumbers} --frames {framenumber} --trunc=1.3\n",
        "# !python generate.py generate-latent-walk --network=/content/drive/MyDrive/colab-sg2-ada/stylegan2-ada/results/00006-W-11gb-gpu-bg-resumecustom/network-snapshot-000028.pkl --seeds=15,21,31,38,58,69,217,234,279,288,15 --frames 300 --trunc=0.7"
      ],
      "execution_count": null,
      "outputs": []
    }
  ]
}